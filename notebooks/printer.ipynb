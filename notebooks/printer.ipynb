{
 "cells": [
  {
   "cell_type": "code",
   "execution_count": 1,
   "metadata": {},
   "outputs": [
    {
     "data": {
      "text/plain": [
       "'Feedback 1:\\nYour response is quite good, but there are a few minor grammatical errors. Here\\'s a revised version:\\n\\n\"In recent times, I have managed my stress by involving myself in reading books and listening to melodies. It has helped me to overcome my frustration. It has opened new ways and given a new pathway to my life.\"\\n\\nFeedback:\\n1. Use \"have managed\" instead of \"managed\" to indicate an ongoing action.\\n2. Use \"melodies\" instead of \"melody\" to refer to listening to music in general.\\n3. Use \"has helped\" instead of \"helped\" for consistency in tense.\\n4. Use \"has opened\" and \"given\" for consistency in tense.\\n\\nOverall, your answer is clear and well-structured. Keep up the good work!\\n\\nFeedback 2:\\nYour response is mostly correct, but there are a couple of minor improvements you could make for clarity and grammatical accuracy:\\n\\n1. \"I should have done the JAM event in a different manner.\" - This sentence is correct, but you might want to specify what \"JAM\" stands for if it\\'s not commonly known to your audience.\\n\\n2. \"I did a good job. But I feel that I would have done it better.\" - The word \"would\" in the second sentence is slightly off in this context. It would be more accurate to say, \"I feel that I could have done it better.\"\\n\\nHere\\'s a revised version: \"I should have done the JAM event in a different manner. I did a good job, but I feel that I could have done it better.\"\\n\\nOverall, your response is clear and well-structured. Keep up the good work!\\n\\nFeedback 3: \\nYour answer is mostly clear, but there are a few minor grammatical errors and areas for improvement:\\n\\n1. \"the hardship of boarding my hometown bus during this Thursday\" - It would be clearer to say \"the hardship of boarding the bus to my hometown this Thursday.\"\\n\\n2. \"Although it was challenging, it was fun too.\" - This sentence is correct, but you could add a comma after \"Moreover\" in the next sentence for better readability.\\n\\n3. \"Moreover it became a short break after tedious work hours.\" - It would be clearer to say \"Moreover, it provided a short break after tedious work hours.\"\\n\\nHere\\'s a revised version of your response:\\n\\n\"I faced the hardship of boarding the bus to my hometown this Thursday. Although it was challenging, it was fun too. Moreover, it provided a short break after tedious work hours.\"\\n\\nGreat effort! Keep practicing, and you\\'ll continue to improve.\\n'"
      ]
     },
     "execution_count": 1,
     "metadata": {},
     "output_type": "execute_result"
    }
   ],
   "source": [
    "\"\"\"Feedback 1:\n",
    "\n",
    "\n",
    "Feedback 2:\n",
    "\n",
    "Feedback 3: \n",
    "\n",
    "\"\"\""
   ]
  },
  {
   "cell_type": "code",
   "execution_count": 4,
   "metadata": {},
   "outputs": [
    {
     "data": {
      "text/plain": [
       "'Your answer is mostly clear, but there are a few minor grammatical errors and areas for improvement:\\n\\n1. \"the hardship of boarding my hometown bus during this Thursday\" - It would be clearer to say \"the hardship of boarding the bus to my hometown this Thursday.\"\\n\\n2. \"Although it was challenging, it was fun too.\" - This sentence is correct, but you could add a comma after \"Moreover\" in the next sentence for better readability.\\n\\n3. \"Moreover it became a short break after tedious work hours.\" - It would be clearer to say \"Moreover, it provided a short break after tedious work hours.\"\\n\\nHere\\'s a revised version of your response:\\n\\n\"I faced the hardship of boarding the bus to my hometown this Thursday. Although it was challenging, it was fun too. Moreover, it provided a short break after tedious work hours.\"\\n\\nGreat effort! Keep practicing, and you\\'ll continue to improve.'"
      ]
     },
     "execution_count": 4,
     "metadata": {},
     "output_type": "execute_result"
    }
   ],
   "source": [
    "\"\"\"Your answer is mostly clear, but there are a few minor grammatical errors and areas for improvement:\n",
    "\n",
    "1. \"the hardship of boarding my hometown bus during this Thursday\" - It would be clearer to say \"the hardship of boarding the bus to my hometown this Thursday.\"\n",
    "\n",
    "2. \"Although it was challenging, it was fun too.\" - This sentence is correct, but you could add a comma after \"Moreover\" in the next sentence for better readability.\n",
    "\n",
    "3. \"Moreover it became a short break after tedious work hours.\" - It would be clearer to say \"Moreover, it provided a short break after tedious work hours.\"\n",
    "\n",
    "Here's a revised version of your response:\n",
    "\n",
    "\"I faced the hardship of boarding the bus to my hometown this Thursday. Although it was challenging, it was fun too. Moreover, it provided a short break after tedious work hours.\"\n",
    "\n",
    "Great effort! Keep practicing, and you'll continue to improve.\"\"\""
   ]
  },
  {
   "cell_type": "code",
   "execution_count": 5,
   "metadata": {},
   "outputs": [],
   "source": [
    "examples = [\n",
    "    \"\"\"Your response is quite good, but there are a few minor grammatical errors. Here\\'s a revised version:\\n\\n\"In recent times, I have managed my stress by involving myself in reading books and listening to melodies. It has helped me to overcome my frustration. It has opened new ways and given a new pathway to my life.\"\\n\\nFeedback:\\n1. Use \"have managed\" instead of \"managed\" to indicate an ongoing action.\\n2. Use \"melodies\" instead of \"melody\" to refer to listening to music in general.\\n3. Use \"has helped\" instead of \"helped\" for consistency in tense.\\n4. Use \"has opened\" and \"given\" for consistency in tense.\\n\\nOverall, your answer is clear and well-structured. Keep up the good work!\"\"\",\n",
    "    \"\"\"Your response is mostly correct, but there are a couple of minor improvements you could make for clarity and grammatical accuracy:\\n\\n1. \"I should have done the JAM event in a different manner.\" - This sentence is correct, but you might want to specify what \"JAM\" stands for if it\\'s not commonly known to your audience.\\n\\n2. \"I did a good job. But I feel that I would have done it better.\" - The word \"would\" in the second sentence is slightly off in this context. It would be more accurate to say, \"I feel that I could have done it better.\"\\n\\nHere\\'s a revised version: \"I should have done the JAM event in a different manner. I did a good job, but I feel that I could have done it better.\"\\n\\nOverall, your response is clear and well-structured. Keep up the good work!\"\"\",\n",
    "    \"\"\"Your answer is mostly clear, but there are a few minor grammatical errors and areas for improvement:\\n\\n1. \"the hardship of boarding my hometown bus during this Thursday\" - It would be clearer to say \"the hardship of boarding the bus to my hometown this Thursday.\"\\n\\n2. \"Although it was challenging, it was fun too.\" - This sentence is correct, but you could add a comma after \"Moreover\" in the next sentence for better readability.\\n\\n3. \"Moreover it became a short break after tedious work hours.\" - It would be clearer to say \"Moreover, it provided a short break after tedious work hours.\"\\n\\nHere\\'s a revised version of your response:\\n\\n\"I faced the hardship of boarding the bus to my hometown this Thursday. Although it was challenging, it was fun too. Moreover, it provided a short break after tedious work hours.\"\\n\\nGreat effort! Keep practicing, and you\\'ll continue to improve.\"\"\",\n",
    "]"
   ]
  },
  {
   "cell_type": "code",
   "execution_count": 1,
   "metadata": {},
   "outputs": [
    {
     "name": "stdout",
     "output_type": "stream",
     "text": [
      "You are an expert, helpful, encouraging and empathetic coach who is helping your mentee improve their interviewing skills for the role of {selected_role}.\n",
      "\n",
      "You will be given an interview question and the conversation history between you and the mentee.\n",
      "\n",
      "You need to give feedback on the mentee's response on what part of their answer stood out, what pieces were missing, what they did well, and what could they have done differently, in light of best practices for interviews, including tense consistency, clarity, precision, sentence structure, clarity of speech and confidence.\n",
      "\n",
      "Important Instructions:\n",
      "- Make sure to categorize the different aspects of feedback into individual topics so that it is easy to process for the mentee.\n",
      "- You must be very specific about exactly what part of the mentee's response you are suggesting any improvement for by quoting directly from their response along with a clear example of how it could be improved. The example for the improvement must be given as if the mentee had said it themselves.\n",
      "\n",
      "Avoid demotivating the mentee. Only provide critique where it is clearly necessary and praise them for the parts of their response that are good.\n",
      "- Some mandatory topics for the feedback are: tense consistency, clarity, precision, sentence structure, clarity of speech and confidence. Add more topics as you deem fit.\n",
      "- Give any feedback as needed on how their response to the question can be made more suited to the role of a {selected_role}\n"
     ]
    }
   ],
   "source": [
    "print(\n",
    "    \"\"\"You are an expert, helpful, encouraging and empathetic coach who is helping your mentee improve their interviewing skills for the role of {selected_role}.\\n\\nYou will be given an interview question and the conversation history between you and the mentee.\\n\\nYou need to give feedback on the mentee's response on what part of their answer stood out, what pieces were missing, what they did well, and what could they have done differently, in light of best practices for interviews, including tense consistency, clarity, precision, sentence structure, clarity of speech and confidence.\\n\\nImportant Instructions:\\n- Make sure to categorize the different aspects of feedback into individual topics so that it is easy to process for the mentee.\\n- You must be very specific about exactly what part of the mentee's response you are suggesting any improvement for by quoting directly from their response along with a clear example of how it could be improved. The example for the improvement must be given as if the mentee had said it themselves.\\n\\nAvoid demotivating the mentee. Only provide critique where it is clearly necessary and praise them for the parts of their response that are good.\\n- Some mandatory topics for the feedback are: tense consistency, clarity, precision, sentence structure, clarity of speech and confidence. Add more topics as you deem fit.\\n- Give any feedback as needed on how their response to the question can be made more suited to the role of a {selected_role}\"\"\"\n",
    ")"
   ]
  },
  {
   "cell_type": "code",
   "execution_count": null,
   "metadata": {},
   "outputs": [],
   "source": []
  }
 ],
 "metadata": {
  "kernelspec": {
   "display_name": "sensai (venv)",
   "language": "python",
   "name": "venv"
  },
  "language_info": {
   "codemirror_mode": {
    "name": "ipython",
    "version": 3
   },
   "file_extension": ".py",
   "mimetype": "text/x-python",
   "name": "python",
   "nbconvert_exporter": "python",
   "pygments_lexer": "ipython3",
   "version": "3.9.6"
  }
 },
 "nbformat": 4,
 "nbformat_minor": 2
}
