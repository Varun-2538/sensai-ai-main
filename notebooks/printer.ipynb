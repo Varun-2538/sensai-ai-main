{
 "cells": [
  {
   "cell_type": "code",
   "execution_count": 1,
   "metadata": {},
   "outputs": [
    {
     "data": {
      "text/plain": [
       "'Feedback 1:\\nYour response is quite good, but there are a few minor grammatical errors. Here\\'s a revised version:\\n\\n\"In recent times, I have managed my stress by involving myself in reading books and listening to melodies. It has helped me to overcome my frustration. It has opened new ways and given a new pathway to my life.\"\\n\\nFeedback:\\n1. Use \"have managed\" instead of \"managed\" to indicate an ongoing action.\\n2. Use \"melodies\" instead of \"melody\" to refer to listening to music in general.\\n3. Use \"has helped\" instead of \"helped\" for consistency in tense.\\n4. Use \"has opened\" and \"given\" for consistency in tense.\\n\\nOverall, your answer is clear and well-structured. Keep up the good work!\\n\\nFeedback 2:\\nYour response is mostly correct, but there are a couple of minor improvements you could make for clarity and grammatical accuracy:\\n\\n1. \"I should have done the JAM event in a different manner.\" - This sentence is correct, but you might want to specify what \"JAM\" stands for if it\\'s not commonly known to your audience.\\n\\n2. \"I did a good job. But I feel that I would have done it better.\" - The word \"would\" in the second sentence is slightly off in this context. It would be more accurate to say, \"I feel that I could have done it better.\"\\n\\nHere\\'s a revised version: \"I should have done the JAM event in a different manner. I did a good job, but I feel that I could have done it better.\"\\n\\nOverall, your response is clear and well-structured. Keep up the good work!\\n\\nFeedback 3: \\nYour answer is mostly clear, but there are a few minor grammatical errors and areas for improvement:\\n\\n1. \"the hardship of boarding my hometown bus during this Thursday\" - It would be clearer to say \"the hardship of boarding the bus to my hometown this Thursday.\"\\n\\n2. \"Although it was challenging, it was fun too.\" - This sentence is correct, but you could add a comma after \"Moreover\" in the next sentence for better readability.\\n\\n3. \"Moreover it became a short break after tedious work hours.\" - It would be clearer to say \"Moreover, it provided a short break after tedious work hours.\"\\n\\nHere\\'s a revised version of your response:\\n\\n\"I faced the hardship of boarding the bus to my hometown this Thursday. Although it was challenging, it was fun too. Moreover, it provided a short break after tedious work hours.\"\\n\\nGreat effort! Keep practicing, and you\\'ll continue to improve.\\n'"
      ]
     },
     "execution_count": 1,
     "metadata": {},
     "output_type": "execute_result"
    }
   ],
   "source": [
    "\"\"\"Feedback 1:\n",
    "\n",
    "\n",
    "Feedback 2:\n",
    "\n",
    "Feedback 3: \n",
    "\n",
    "\"\"\""
   ]
  },
  {
   "cell_type": "code",
   "execution_count": 4,
   "metadata": {},
   "outputs": [
    {
     "data": {
      "text/plain": [
       "'Your answer is mostly clear, but there are a few minor grammatical errors and areas for improvement:\\n\\n1. \"the hardship of boarding my hometown bus during this Thursday\" - It would be clearer to say \"the hardship of boarding the bus to my hometown this Thursday.\"\\n\\n2. \"Although it was challenging, it was fun too.\" - This sentence is correct, but you could add a comma after \"Moreover\" in the next sentence for better readability.\\n\\n3. \"Moreover it became a short break after tedious work hours.\" - It would be clearer to say \"Moreover, it provided a short break after tedious work hours.\"\\n\\nHere\\'s a revised version of your response:\\n\\n\"I faced the hardship of boarding the bus to my hometown this Thursday. Although it was challenging, it was fun too. Moreover, it provided a short break after tedious work hours.\"\\n\\nGreat effort! Keep practicing, and you\\'ll continue to improve.'"
      ]
     },
     "execution_count": 4,
     "metadata": {},
     "output_type": "execute_result"
    }
   ],
   "source": [
    "\"\"\"Your answer is mostly clear, but there are a few minor grammatical errors and areas for improvement:\n",
    "\n",
    "1. \"the hardship of boarding my hometown bus during this Thursday\" - It would be clearer to say \"the hardship of boarding the bus to my hometown this Thursday.\"\n",
    "\n",
    "2. \"Although it was challenging, it was fun too.\" - This sentence is correct, but you could add a comma after \"Moreover\" in the next sentence for better readability.\n",
    "\n",
    "3. \"Moreover it became a short break after tedious work hours.\" - It would be clearer to say \"Moreover, it provided a short break after tedious work hours.\"\n",
    "\n",
    "Here's a revised version of your response:\n",
    "\n",
    "\"I faced the hardship of boarding the bus to my hometown this Thursday. Although it was challenging, it was fun too. Moreover, it provided a short break after tedious work hours.\"\n",
    "\n",
    "Great effort! Keep practicing, and you'll continue to improve.\"\"\""
   ]
  },
  {
   "cell_type": "code",
   "execution_count": 5,
   "metadata": {},
   "outputs": [],
   "source": [
    "examples = [\n",
    "    \"\"\"Your response is quite good, but there are a few minor grammatical errors. Here\\'s a revised version:\\n\\n\"In recent times, I have managed my stress by involving myself in reading books and listening to melodies. It has helped me to overcome my frustration. It has opened new ways and given a new pathway to my life.\"\\n\\nFeedback:\\n1. Use \"have managed\" instead of \"managed\" to indicate an ongoing action.\\n2. Use \"melodies\" instead of \"melody\" to refer to listening to music in general.\\n3. Use \"has helped\" instead of \"helped\" for consistency in tense.\\n4. Use \"has opened\" and \"given\" for consistency in tense.\\n\\nOverall, your answer is clear and well-structured. Keep up the good work!\"\"\",\n",
    "    \"\"\"Your response is mostly correct, but there are a couple of minor improvements you could make for clarity and grammatical accuracy:\\n\\n1. \"I should have done the JAM event in a different manner.\" - This sentence is correct, but you might want to specify what \"JAM\" stands for if it\\'s not commonly known to your audience.\\n\\n2. \"I did a good job. But I feel that I would have done it better.\" - The word \"would\" in the second sentence is slightly off in this context. It would be more accurate to say, \"I feel that I could have done it better.\"\\n\\nHere\\'s a revised version: \"I should have done the JAM event in a different manner. I did a good job, but I feel that I could have done it better.\"\\n\\nOverall, your response is clear and well-structured. Keep up the good work!\"\"\",\n",
    "    \"\"\"Your answer is mostly clear, but there are a few minor grammatical errors and areas for improvement:\\n\\n1. \"the hardship of boarding my hometown bus during this Thursday\" - It would be clearer to say \"the hardship of boarding the bus to my hometown this Thursday.\"\\n\\n2. \"Although it was challenging, it was fun too.\" - This sentence is correct, but you could add a comma after \"Moreover\" in the next sentence for better readability.\\n\\n3. \"Moreover it became a short break after tedious work hours.\" - It would be clearer to say \"Moreover, it provided a short break after tedious work hours.\"\\n\\nHere\\'s a revised version of your response:\\n\\n\"I faced the hardship of boarding the bus to my hometown this Thursday. Although it was challenging, it was fun too. Moreover, it provided a short break after tedious work hours.\"\\n\\nGreat effort! Keep practicing, and you\\'ll continue to improve.\"\"\",\n",
    "]"
   ]
  },
  {
   "cell_type": "code",
   "execution_count": 6,
   "metadata": {},
   "outputs": [
    {
     "name": "stdout",
     "output_type": "stream",
     "text": [
      "Feedback 1:\n",
      "Your response is quite good, but there are a few minor grammatical errors. Here's a revised version:\n",
      "\n",
      "\"In recent times, I have managed my stress by involving myself in reading books and listening to melodies. It has helped me to overcome my frustration. It has opened new ways and given a new pathway to my life.\"\n",
      "\n",
      "Feedback:\n",
      "1. Use \"have managed\" instead of \"managed\" to indicate an ongoing action.\n",
      "2. Use \"melodies\" instead of \"melody\" to refer to listening to music in general.\n",
      "3. Use \"has helped\" instead of \"helped\" for consistency in tense.\n",
      "4. Use \"has opened\" and \"given\" for consistency in tense.\n",
      "\n",
      "Overall, your answer is clear and well-structured. Keep up the good work!\n",
      "\n",
      "Feedback 2:\n",
      "Your response is mostly correct, but there are a couple of minor improvements you could make for clarity and grammatical accuracy:\n",
      "\n",
      "1. \"I should have done the JAM event in a different manner.\" - This sentence is correct, but you might want to specify what \"JAM\" stands for if it's not commonly known to your audience.\n",
      "\n",
      "2. \"I did a good job. But I feel that I would have done it better.\" - The word \"would\" in the second sentence is slightly off in this context. It would be more accurate to say, \"I feel that I could have done it better.\"\n",
      "\n",
      "Here's a revised version: \"I should have done the JAM event in a different manner. I did a good job, but I feel that I could have done it better.\"\n",
      "\n",
      "Overall, your response is clear and well-structured. Keep up the good work!\n",
      "\n",
      "Feedback 3:\n",
      "Your answer is mostly clear, but there are a few minor grammatical errors and areas for improvement:\n",
      "\n",
      "1. \"the hardship of boarding my hometown bus during this Thursday\" - It would be clearer to say \"the hardship of boarding the bus to my hometown this Thursday.\"\n",
      "\n",
      "2. \"Although it was challenging, it was fun too.\" - This sentence is correct, but you could add a comma after \"Moreover\" in the next sentence for better readability.\n",
      "\n",
      "3. \"Moreover it became a short break after tedious work hours.\" - It would be clearer to say \"Moreover, it provided a short break after tedious work hours.\"\n",
      "\n",
      "Here's a revised version of your response:\n",
      "\n",
      "\"I faced the hardship of boarding the bus to my hometown this Thursday. Although it was challenging, it was fun too. Moreover, it provided a short break after tedious work hours.\"\n",
      "\n",
      "Great effort! Keep practicing, and you'll continue to improve.\n"
     ]
    }
   ],
   "source": [
    "print(\n",
    "    \"\\n\\n\".join(\n",
    "        [f\"Feedback {index + 1}:\\n{example}\" for index, example in enumerate(examples)]\n",
    "    )\n",
    ")"
   ]
  },
  {
   "cell_type": "code",
   "execution_count": null,
   "metadata": {},
   "outputs": [],
   "source": []
  }
 ],
 "metadata": {
  "kernelspec": {
   "display_name": "sensai (venv)",
   "language": "python",
   "name": "venv"
  },
  "language_info": {
   "codemirror_mode": {
    "name": "ipython",
    "version": 3
   },
   "file_extension": ".py",
   "mimetype": "text/x-python",
   "name": "python",
   "nbconvert_exporter": "python",
   "pygments_lexer": "ipython3",
   "version": "3.9.6"
  }
 },
 "nbformat": 4,
 "nbformat_minor": 2
}
