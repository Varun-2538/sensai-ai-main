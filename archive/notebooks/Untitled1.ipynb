{
 "cells": [
  {
   "cell_type": "code",
   "execution_count": 14,
   "id": "349303a0-5bd4-4037-9941-edfdfd89fcf1",
   "metadata": {
    "tags": []
   },
   "outputs": [],
   "source": [
    "import sys\n",
    "from tqdm import tqdm\n",
    "import json\n",
    "sys.path.append(\"./prototype-backend/\")"
   ]
  },
  {
   "cell_type": "code",
   "execution_count": 2,
   "id": "a89fb62e-e59b-455c-9449-1630f8878853",
   "metadata": {
    "tags": []
   },
   "outputs": [],
   "source": [
    "from sensai import create_learning_outcomes"
   ]
  },
  {
   "cell_type": "code",
   "execution_count": 3,
   "id": "86331987-d7aa-45d4-8f78-678fdfec40fd",
   "metadata": {
    "tags": []
   },
   "outputs": [],
   "source": [
    "learning_outcomes = create_learning_outcomes(subject = \"Python Programming\", topic = \"Basics - Variables, Data Types and Operators\")"
   ]
  },
  {
   "cell_type": "code",
   "execution_count": 4,
   "id": "95ca32e9-034a-482e-ae04-5ba28e9be474",
   "metadata": {
    "tags": []
   },
   "outputs": [
    {
     "data": {
      "text/plain": [
       "{'Remember': ['Define variables, data types, and operators in Python programming.',\n",
       "  'List the basic data types in Python.',\n",
       "  'Identify the different types of operators in Python.'],\n",
       " 'Understand': ['Explain the concept of variables and their role in Python programming.',\n",
       "  'Describe the characteristics of different data types in Python.',\n",
       "  'Paraphrase the function of various operators in Python.'],\n",
       " 'Apply': ['Use variables to store and manipulate data in Python.',\n",
       "  'Apply appropriate data types to variables in Python.',\n",
       "  'Demonstrate the use of different operators in Python programming.'],\n",
       " 'Analyze': ['Break down a Python code snippet to identify variables, data types, and operators.',\n",
       "  'Categorize variables based on their data types in a given Python code.',\n",
       "  'Analyze the use of operators in a Python code to understand their impact on the output.'],\n",
       " 'Evaluate': ['Determine the most appropriate data type for a given variable in a Python program.',\n",
       "  'Compare and contrast the use of different operators in various programming scenarios.',\n",
       "  'Justify the choice of specific operators in a Python code to achieve a desired outcome.'],\n",
       " 'Create': ['Design a Python program that effectively uses variables, data types, and operators to solve a problem.',\n",
       "  'Develop a Python code that demonstrates the use of various data types and operators in different scenarios.',\n",
       "  'Modify an existing Python code to optimize the use of variables, data types, and operators for better performance.']}"
      ]
     },
     "execution_count": 4,
     "metadata": {},
     "output_type": "execute_result"
    }
   ],
   "source": [
    "learning_outcomes"
   ]
  },
  {
   "cell_type": "code",
   "execution_count": 8,
   "id": "b44b14d4-5846-4197-90ab-215e13d5d9a8",
   "metadata": {
    "tags": []
   },
   "outputs": [],
   "source": [
    "subject = \"Javascript Programming\"\n",
    "topics = [\n",
    "    \"Basics - Data Types and Variables\",\n",
    "    \"Basics - Operators\",\n",
    "    \"Basics - Conditionals\",\n",
    "    \"Basics - Loops\",\n",
    "    \"Basics - Functions\",\n",
    "    \"Basics - Objects and Classes\",\n",
    "    \"Basics - Arrays\",\n",
    "    \"Basics - Strings\",\n",
    "    \"DOM - Selecting Elements\",\n",
    "    \"DOM - Modifying Elements\",\n",
    "    \"DOM - Events\",\n",
    "    \"Advanced - Asynchronous Javascript\",\n",
    "    \"Advanced - Callbacks\",\n",
    "    \"Advanced - Promises\",\n",
    "    \"Advanced - Fetch API\",\n",
    "    \"Advanced - Async Await\",\n",
    "    \"Advanced - Error Handling\"\n",
    "]   "
   ]
  },
  {
   "cell_type": "code",
   "execution_count": 11,
   "id": "fa347fd8-6fe7-4630-b161-c39e2e68daca",
   "metadata": {
    "tags": []
   },
   "outputs": [
    {
     "name": "stderr",
     "output_type": "stream",
     "text": [
      "100%|██████████████████████████████████████████████████| 17/17 [26:55<00:00, 95.00s/it]\n"
     ]
    }
   ],
   "source": [
    "roadmap = {}\n",
    "\n",
    "for topic in tqdm(topics):\n",
    "    \n",
    "    learning_outcomes = create_learning_outcomes(subject = subject, topic = topic)\n",
    "    roadmap[topic] = {\n",
    "        \"learning_outcomes\": learning_outcomes\n",
    "    }"
   ]
  },
  {
   "cell_type": "code",
   "execution_count": 15,
   "id": "c71f4b53-f33d-408e-9942-c282ca9d46ff",
   "metadata": {
    "tags": []
   },
   "outputs": [],
   "source": [
    "with open(\"./javascript_roadmap.json\", \"w\") as file_handle:\n",
    "    json.dump(roadmap, file_handle)"
   ]
  },
  {
   "cell_type": "code",
   "execution_count": null,
   "id": "86dc282c-d573-43ff-8931-d46dd7e19efa",
   "metadata": {},
   "outputs": [],
   "source": []
  }
 ],
 "metadata": {
  "kernelspec": {
   "display_name": "Python 3 (ipykernel)",
   "language": "python",
   "name": "python3"
  },
  "language_info": {
   "codemirror_mode": {
    "name": "ipython",
    "version": 3
   },
   "file_extension": ".py",
   "mimetype": "text/x-python",
   "name": "python",
   "nbconvert_exporter": "python",
   "pygments_lexer": "ipython3",
   "version": "3.9.5"
  }
 },
 "nbformat": 4,
 "nbformat_minor": 5
}
